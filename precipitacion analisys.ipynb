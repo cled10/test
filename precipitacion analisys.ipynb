{
    "cells": [
        {
            "cell_type": "markdown",
            "metadata": {},
            "source": "calidad aire"
        },
        {
            "cell_type": "code",
            "execution_count": 1,
            "metadata": {},
            "outputs": [
                {
                    "data": {
                        "text/html": "<div>\n<style scoped>\n    .dataframe tbody tr th:only-of-type {\n        vertical-align: middle;\n    }\n\n    .dataframe tbody tr th {\n        vertical-align: top;\n    }\n\n    .dataframe thead th {\n        text-align: right;\n    }\n</style>\n<table border=\"1\" class=\"dataframe\">\n  <thead>\n    <tr style=\"text-align: right;\">\n      <th></th>\n      <th>id</th>\n      <th>fecha_actualizacion</th>\n      <th>alcaldia_municipio</th>\n      <th>indice</th>\n      <th>riesgo</th>\n      <th>recomendacion_uno</th>\n      <th>recomendacion_dos</th>\n      <th>recomendacion_tres</th>\n    </tr>\n  </thead>\n  <tbody>\n    <tr>\n      <th>0</th>\n      <td>0</td>\n      <td>2021-01-27 19:00:02</td>\n      <td>ALVARO OBREGON</td>\n      <td>REGULAR</td>\n      <td>Aceptable</td>\n      <td>Puedes realizar actividades al aire libre</td>\n      <td>Puedes ejercitarte al aire libre</td>\n      <td>Personas extremadamente sensibles limitar acti...</td>\n    </tr>\n    <tr>\n      <th>1</th>\n      <td>1</td>\n      <td>2021-01-27 19:00:02</td>\n      <td>AZCAPOTZALCO</td>\n      <td>MALA</td>\n      <td>Da\u00f1ina a la salud en grupos sensibles</td>\n      <td>Limita las actividades al aire libre</td>\n      <td>Limita el tiempo para ejercitarte al aire libre</td>\n      <td>Grupos sensibles permanecer en interiores</td>\n    </tr>\n    <tr>\n      <th>2</th>\n      <td>2</td>\n      <td>2021-01-27 19:00:02</td>\n      <td>BENITO JUAREZ</td>\n      <td>REGULAR</td>\n      <td>Aceptable</td>\n      <td>Puedes realizar actividades al aire libre</td>\n      <td>Puedes ejercitarte al aire libre</td>\n      <td>Personas extremadamente sensibles limitar acti...</td>\n    </tr>\n    <tr>\n      <th>3</th>\n      <td>3</td>\n      <td>2021-01-27 19:00:02</td>\n      <td>GUSTAVO A. MADERO</td>\n      <td>REGULAR</td>\n      <td>Aceptable</td>\n      <td>Puedes realizar actividades al aire libre</td>\n      <td>Puedes ejercitarte al aire libre</td>\n      <td>Personas extremadamente sensibles limitar acti...</td>\n    </tr>\n    <tr>\n      <th>4</th>\n      <td>4</td>\n      <td>2021-01-27 19:00:02</td>\n      <td>MILPA ALTA</td>\n      <td>SIN COBERTURA</td>\n      <td>NaN</td>\n      <td>NaN</td>\n      <td>NaN</td>\n      <td>NaN</td>\n    </tr>\n  </tbody>\n</table>\n</div>",
                        "text/plain": "   id  fecha_actualizacion alcaldia_municipio         indice  \\\n0   0  2021-01-27 19:00:02     ALVARO OBREGON        REGULAR   \n1   1  2021-01-27 19:00:02       AZCAPOTZALCO           MALA   \n2   2  2021-01-27 19:00:02      BENITO JUAREZ        REGULAR   \n3   3  2021-01-27 19:00:02  GUSTAVO A. MADERO        REGULAR   \n4   4  2021-01-27 19:00:02         MILPA ALTA  SIN COBERTURA   \n\n                                  riesgo  \\\n0                              Aceptable   \n1  Da\u00f1ina a la salud en grupos sensibles   \n2                              Aceptable   \n3                              Aceptable   \n4                                    NaN   \n\n                           recomendacion_uno  \\\n0  Puedes realizar actividades al aire libre   \n1       Limita las actividades al aire libre   \n2  Puedes realizar actividades al aire libre   \n3  Puedes realizar actividades al aire libre   \n4                                        NaN   \n\n                                 recomendacion_dos  \\\n0                 Puedes ejercitarte al aire libre   \n1  Limita el tiempo para ejercitarte al aire libre   \n2                 Puedes ejercitarte al aire libre   \n3                 Puedes ejercitarte al aire libre   \n4                                              NaN   \n\n                                  recomendacion_tres  \n0  Personas extremadamente sensibles limitar acti...  \n1          Grupos sensibles permanecer en interiores  \n2  Personas extremadamente sensibles limitar acti...  \n3  Personas extremadamente sensibles limitar acti...  \n4                                                NaN  "
                    },
                    "execution_count": 1,
                    "metadata": {},
                    "output_type": "execute_result"
                }
            ],
            "source": "# The code was removed by Watson Studio for sharing."
        },
        {
            "cell_type": "code",
            "execution_count": null,
            "metadata": {},
            "outputs": [],
            "source": ""
        }
    ],
    "metadata": {
        "kernelspec": {
            "display_name": "Python 3.8",
            "language": "python",
            "name": "python3"
        },
        "language_info": {
            "codemirror_mode": {
                "name": "ipython",
                "version": 3
            },
            "file_extension": ".py",
            "mimetype": "text/x-python",
            "name": "python",
            "nbconvert_exporter": "python",
            "pygments_lexer": "ipython3",
            "version": "3.8.12"
        }
    },
    "nbformat": 4,
    "nbformat_minor": 1
}